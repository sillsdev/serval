{
 "cells": [
  {
   "cell_type": "code",
   "execution_count": null,
   "id": "b4e53926",
   "metadata": {},
   "outputs": [],
   "source": [
    "import clearml_stats\n",
    "\n",
    "stats = clearml_stats.clearml_stats()"
   ]
  },
  {
   "cell_type": "code",
   "execution_count": null,
   "id": "1b35bfd0",
   "metadata": {},
   "outputs": [],
   "source": [
    "stats._assign_languages()\n",
    "stats.create_language_projects()\n",
    "lang_groups_df = stats.get_language_groups()"
   ]
  },
  {
   "cell_type": "code",
   "execution_count": null,
   "id": "33525fb4",
   "metadata": {},
   "outputs": [],
   "source": [
    "lang_groups_df['duration_used'] = lang_groups_df['last_run'] - lang_groups_df['first_run']"
   ]
  },
  {
   "cell_type": "code",
   "execution_count": null,
   "id": "8ed4afeb",
   "metadata": {},
   "outputs": [],
   "source": [
    "import numpy as np\n",
    "lang_groups_df['is_longterm_user'] = (lang_groups_df['duration_used'] > np.timedelta64(25, \"W\")) & (lang_groups_df['num_tasks'] > 5)"
   ]
  },
  {
   "cell_type": "code",
   "execution_count": null,
   "id": "e9366e6d",
   "metadata": {},
   "outputs": [],
   "source": [
    "lang_groups_df[lang_groups_df['is_longterm_user']].to_csv('./clearml_stats/long_time_users.csv')"
   ]
  },
  {
   "cell_type": "code",
   "execution_count": null,
   "id": "3ed5fc8a",
   "metadata": {},
   "outputs": [],
   "source": [
    "import plotly.express as px\n",
    "lang_groups_df[\"num_tasks\"] = lang_groups_df[\"tasks\"].apply(len)\n",
    "\n",
    "mask = ~(lang_groups_df[\"language_name\"] == \"unknown\")\n",
    "fig = px.scatter(\n",
    "    lang_groups_df[mask],\n",
    "    x=\"first_run\",\n",
    "    y=\"last_run\",\n",
    "    color=\"continent\",\n",
    "    hover_name=\"language_name\",\n",
    ")\n",
    "\n",
    "counts = lang_groups_df[mask][\"continent\"].value_counts()\n",
    "\n",
    "# Update legend labels\n",
    "for i, trace in enumerate(fig.data):\n",
    "    category = trace.name\n",
    "    count = counts[category]\n",
    "    fig.data[i].name = f\"{category} ({count})\"\n",
    "\n",
    "fig.show()"
   ]
  },
  {
   "cell_type": "code",
   "execution_count": null,
   "id": "6340187a",
   "metadata": {},
   "outputs": [],
   "source": [
    "lang_groups_df = stats.get_language_groups()\n",
    "mask = ~(lang_groups_df[\"language_name\"] == \"unknown\")\n",
    "lang_groups_df.loc[\n",
    "    (lang_groups_df[\"last_run\"] - lang_groups_df[\"first_run\"]) < np.timedelta64(1, \"W\"),\n",
    "    \"type\",\n",
    "] = \"stale\"\n",
    "\n",
    "fig = px.scatter(\n",
    "    lang_groups_df[mask],\n",
    "    x=\"first_run\",\n",
    "    y=\"last_run\",\n",
    "    color=\"type\",\n",
    "    hover_name=\"language_name\",\n",
    ")\n",
    "\n",
    "\n",
    "# Calculate counts for each type\n",
    "counts = lang_groups_df[mask][\"type\"].value_counts()\n",
    "\n",
    "# Update legend labels\n",
    "for i, trace in enumerate(fig.data):\n",
    "    category = trace.name\n",
    "    count = counts[category]\n",
    "    fig.data[i].name = f\"{category} ({count})\"\n",
    "\n",
    "fig.show()"
   ]
  },
  {
   "cell_type": "code",
   "execution_count": null,
   "id": "ac569355",
   "metadata": {},
   "outputs": [],
   "source": [
    "def plot_by_queue(queue_names: list[str], prefix: str = \"\"):\n",
    "    tasks_df = stats.get_tasks_by_queue_names(queue_names)\n",
    "    if prefix == \"\":\n",
    "        prefix = \", \".join(queue_names)\n",
    "    if len(queue_names) > 1:\n",
    "        clearml_stats.plot_loading_per_week(\n",
    "            tasks_df, group_by=\"queue\", title_prefix=prefix\n",
    "        )\n",
    "    else:\n",
    "        clearml_stats.plot_loading_per_week(\n",
    "            tasks_df, group_by=\"status\", title_prefix=prefix\n",
    "        )\n",
    "    clearml_stats.violin_task_run_time_per_week(tasks_df, title_prefix=prefix)\n",
    "    clearml_stats.violin_task_delay_time_per_week(tasks_df, title_prefix=prefix)"
   ]
  },
  {
   "cell_type": "code",
   "execution_count": null,
   "id": "7d4c8100",
   "metadata": {},
   "outputs": [],
   "source": [
    "# plot_by_queue([\"production\"])\n",
    "# plot_by_queue([\"jobs_urgent\"])\n",
    "# plot_by_queue([\"jobs_backlog\"])\n",
    "plot_by_queue([\"production\", \"jobs_urgent\", \"jobs_backlog\"], prefix=\"A100\")"
   ]
  },
  {
   "cell_type": "code",
   "execution_count": null,
   "id": "b5354c87",
   "metadata": {},
   "outputs": [],
   "source": [
    "import plotly.express as px\n",
    "\n",
    "fig = px.choropleth()\n",
    "fig.add_trace(px.scatter_geo(lang_groups_df,\n",
    "                             lat='latitude',\n",
    "                             lon='longitude',\n",
    "                             hover_name=\"language_name\",\n",
    "                             ).data[0])"
   ]
  }
 ],
 "metadata": {
  "kernelspec": {
   "display_name": "Python 3",
   "language": "python",
   "name": "python3"
  },
  "language_info": {
   "codemirror_mode": {
    "name": "ipython",
    "version": 3
   },
   "file_extension": ".py",
   "mimetype": "text/x-python",
   "name": "python",
   "nbconvert_exporter": "python",
   "pygments_lexer": "ipython3",
   "version": "3.10.12"
  }
 },
 "nbformat": 4,
 "nbformat_minor": 5
}
